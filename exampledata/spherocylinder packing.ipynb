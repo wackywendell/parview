{
 "cells": [
  {
   "cell_type": "markdown",
   "metadata": {},
   "source": [
    "## Spherocylinder Packing\n",
    "\n",
    "This is an example using `pyparm` to generate a packing of spherocylinders, for the purpose of using them with ParView."
   ]
  },
  {
   "cell_type": "code",
   "execution_count": 1,
   "metadata": {
    "collapsed": false
   },
   "outputs": [],
   "source": [
    "%load_ext autoreload\n",
    "%autoreload 1"
   ]
  },
  {
   "cell_type": "code",
   "execution_count": 2,
   "metadata": {
    "collapsed": true
   },
   "outputs": [],
   "source": [
    "%aimport pyparm\n",
    "%aimport pyparm.packmin\n",
    "%aimport parview\n",
    "import pyparm.d3 as sim\n",
    "from pyparm.util import norm\n",
    "from math import pi\n",
    "from itertools import count\n",
    "import jsonpickle"
   ]
  },
  {
   "cell_type": "code",
   "execution_count": 3,
   "metadata": {
    "collapsed": false
   },
   "outputs": [
    {
     "name": "stdout",
     "output_type": "stream",
     "text": [
      "29.321531433504735 0.00045814892864851146\n"
     ]
    }
   ],
   "source": [
    "N = 32\n",
    "alpha = 0.5\n",
    "L0 = 40.\n",
    "\n",
    "#diameter is 1\n",
    "V_cap = pi / 6.\n",
    "V_cyl = alpha * pi / 4.\n",
    "V_SC = N * (V_cap + V_cyl)\n",
    "V = L0**3\n",
    "print(V_SC, V_SC / V)"
   ]
  },
  {
   "cell_type": "code",
   "execution_count": 4,
   "metadata": {
    "collapsed": false
   },
   "outputs": [
    {
     "name": "stdout",
     "output_type": "stream",
     "text": [
      "0.0\n"
     ]
    }
   ],
   "source": [
    "scavec = sim.SCatomvec([1.0] * N)\n",
    "springs = sim.SCSpringList(scavec, 1.0, 1.0, alpha)\n",
    "box = sim.OriginBox(L0)\n",
    "for a in scavec:\n",
    "    a.x = box.randLoc()\n",
    "    a.v = sim.vec()\n",
    "    a.f = sim.vec()\n",
    "\n",
    "constraints = []\n",
    "for a1, a2 in scavec.all_pairs():\n",
    "    dc = sim.distConstraint(a1, a2, alpha)\n",
    "    dc.apply_positions(box)\n",
    "    constraints.append(dc)\n",
    "print(springs.energy(box))"
   ]
  },
  {
   "cell_type": "code",
   "execution_count": 5,
   "metadata": {
    "collapsed": false
   },
   "outputs": [],
   "source": [
    "collec = sim.collectionNLCG(box, scavec, 0.01, 1e-4, [springs], [], constraints)"
   ]
  },
  {
   "cell_type": "code",
   "execution_count": 6,
   "metadata": {
    "collapsed": false,
    "scrolled": true
   },
   "outputs": [
    {
     "name": "stdout",
     "output_type": "stream",
     "text": [
      "   0:   0.008129, phi  0.000574915. H= 5.100148778198  (L:      37.1 /         3)\n",
      "  10:  0.0008792, phi  0.001748103. H= 1.677334681017  (L:      25.6 /         3)\n",
      "  20:  0.0003143, phi  0.002919834. H= 1.004223808740  (L:      21.6 /         3)\n",
      "  30:  0.0001601, phi  0.004091214. H= 0.716697115584  (L:      19.3 /         3)\n",
      "  40:  9.659e-05, phi  0.005261629. H= 0.557273565356  (L:      17.7 /         3)\n",
      "  50:   4.61e-05, phi  0.007603219. H= 0.385648489597  (L:      15.7 /         3)\n",
      "  60:   2.15e-05, phi  0.011103051. H= 0.264087504756  (L:      13.8 /         3)\n",
      "  70:  1.242e-05, phi  0.014596504. H= 0.200882010192  (L:      12.6 /         3)\n",
      "  80:  7.393e-06, phi  0.018922700. H= 0.154955162393  (L:      11.6 /         3)\n",
      "  90:  3.603e-06, phi  0.027068778. H= 0.108322863296  (L:      10.3 /         3)\n",
      " 100:  2.102e-06, phi  0.035182225. H= 0.083342624525  (L:      9.41 /         3)\n",
      " 110:  1.197e-06, phi  0.046577630. H= 0.062952370310  (L:      8.57 /         3)\n",
      " 120:  6.263e-07, phi  0.063748146. H= 0.045996306199  (L:      7.72 /         3)\n",
      " 130:  3.787e-07, phi  0.080726678. H= 0.036322466065  (L:      7.13 /         3)\n",
      " 140:  1.926e-07, phi  0.111319686. H= 0.026340274304  (L:      6.41 /         3)\n",
      " 150:  1.101e-07, phi  0.145180877. H= 0.020196807958  (L:      5.87 /         3)\n",
      " 160:  6.495e-08, phi  0.186759843. H= 0.015700687234  (L:      5.39 /         3)\n",
      " 170:  3.134e-08, phi  0.258334141. H= 0.011350830811  (L:      4.84 /         3)\n",
      " 180:  1.781e-08, phi  0.332101578. H= 0.008829734359  (L:      4.45 /         3)\n",
      " 190:  1.106e-08, phi  0.436963827. H= 0.006711866764  (L:      4.06 /         3)\n",
      " 200:  7.473e-09, phi  0.557509754. H= 0.005261548753  (L:      3.75 /         3)\n",
      " 210:  7.352e-10, phi  0.668411508. H= 0.004387760934  (L:      3.53 /         3)\n",
      " 220:  1.798e-10, phi  0.681041843. H= 0.004306487240  (L:       3.5 /         3)\n",
      " 230:  6.365e-12, phi  0.686143988. H= 0.004274311728  (L:       3.5 /         3)\n",
      " 240:  3.419e-11, phi  0.686422192. H= 0.004272582175  (L:       3.5 /         3)\n",
      " 250:   1.48e-12, phi  0.689195384. H= 0.004255327797  (L:      3.49 /         3)\n",
      "Done.\n"
     ]
    }
   ],
   "source": [
    "m = 1000\n",
    "locs = []\n",
    "Ls = []\n",
    "\n",
    "#while True:\n",
    "for i in range(m):\n",
    "    for _ in range(200):\n",
    "        collec.timestep()\n",
    "    fdotf = collec.fdotf() / N\n",
    "    if i % 10 == 0:\n",
    "        H = collec.Hamiltonian()\n",
    "        V = box.V()\n",
    "        phi = V_SC / V\n",
    "        print('{:4d}: {:10.4g}, phi {:12.9f}. H={:15.12f}  (L: {:9.3g} / {:9.3g})'.format(\n",
    "                i, fdotf, phi, H, box.L(), ((1 + alpha) * 2)))\n",
    "    locs.append([a.x for a in scavec])\n",
    "    Ls.append(box.L())\n",
    "    if fdotf < 1e-12:\n",
    "        print('Done.')\n",
    "        break\n",
    "    if box.L() <= (1 + alpha) * 2:\n",
    "        print('Box shrunk too much.')\n",
    "        break"
   ]
  },
  {
   "cell_type": "code",
   "execution_count": 7,
   "metadata": {
    "collapsed": false
   },
   "outputs": [
    {
     "name": "stdout",
     "output_type": "stream",
     "text": [
      "(259, 64, 3) (259,)\n"
     ]
    }
   ],
   "source": [
    "locs = np.asarray(locs)\n",
    "Ls = np.asarray(Ls)\n",
    "print(locs.shape, Ls.shape)"
   ]
  },
  {
   "cell_type": "code",
   "execution_count": 39,
   "metadata": {
    "collapsed": false
   },
   "outputs": [
    {
     "data": {
      "text/plain": [
       "2.0"
      ]
     },
     "execution_count": 39,
     "metadata": {},
     "output_type": "execute_result"
    }
   ],
   "source": [
    "dx = 0.5\n",
    "x2 = np.sqrt((4 - dx**2)/2.)\n",
    "\n",
    "np.sqrt(x2**2 + x2**2 + dx**2)"
   ]
  },
  {
   "cell_type": "code",
   "execution_count": 83,
   "metadata": {
    "collapsed": false
   },
   "outputs": [],
   "source": [
    "locs1, locs2 = locs[:, ::2, :], locs[:, 1::2, :]\n",
    "rs = (locs1 + locs2) / 2.\n",
    "axes = (locs2 - locs1)\n",
    "names = [[str(i+1)] for i in range(N)]\n",
    "diameters = [1.0]*N\n",
    "\n",
    "frames = []\n",
    "for n, L, locset, rset, axset in zip(count(), Ls, locs, rs, axes):\n",
    "    scs = [parview.Spherocylinder(r/L % 1.0 - 0.5, d/L, ax/L * (alpha + 1.) / alpha, nm) \n",
    "           for r, d, ax, nm in zip(rset, diameters, axset, names)]\n",
    "    \n",
    "    text='%d, phi=%5.3f' % (n, V_SC / (L**3))\n",
    "    frames.append(parview.Frame(spherocylinders=scs, spheres=sphs, text=text))"
   ]
  },
  {
   "cell_type": "code",
   "execution_count": 85,
   "metadata": {
    "collapsed": false
   },
   "outputs": [],
   "source": [
    "jsontext = jsonpickle.encode(frames, unpicklable=False)\n",
    "with open('spherocylinders.json', 'w') as f:\n",
    "    f.write(jsontext)"
   ]
  },
  {
   "cell_type": "code",
   "execution_count": 86,
   "metadata": {
    "collapsed": false
   },
   "outputs": [
    {
     "data": {
      "text/plain": [
       "8.731006552961472e-07"
      ]
     },
     "execution_count": 86,
     "metadata": {},
     "output_type": "execute_result"
    }
   ],
   "source": [
    "collec.potentialenergy()"
   ]
  },
  {
   "cell_type": "markdown",
   "metadata": {},
   "source": [
    "### Basic spherocylinder"
   ]
  },
  {
   "cell_type": "code",
   "execution_count": null,
   "metadata": {
    "collapsed": true
   },
   "outputs": [],
   "source": [
    "for "
   ]
  }
 ],
 "metadata": {
  "kernelspec": {
   "display_name": "Python 3",
   "language": "python",
   "name": "python3"
  },
  "language_info": {
   "codemirror_mode": {
    "name": "ipython",
    "version": 3
   },
   "file_extension": ".py",
   "mimetype": "text/x-python",
   "name": "python",
   "nbconvert_exporter": "python",
   "pygments_lexer": "ipython3",
   "version": "3.4.3"
  }
 },
 "nbformat": 4,
 "nbformat_minor": 0
}
